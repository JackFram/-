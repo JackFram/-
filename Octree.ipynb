{
 "cells": [
  {
   "cell_type": "code",
   "execution_count": 1,
   "metadata": {
    "collapsed": false
   },
   "outputs": [],
   "source": [
    "from PIL import Image\n",
    "import os\n",
    "import numpy as np\n",
    "import random\n",
    "node_saver = [] # 用来存分叉节点的信息，便于后边合并\n",
    "leaf_saver = [] # 用来存叶子结点的信息\n",
    "\n",
    "def Dec2Bi(number: int): #将10进制转换为2进制\n",
    "    outcome = []\n",
    "    for i in range(8):\n",
    "        outcome.append(number%2)\n",
    "        number = int(number/2)\n",
    "    return outcome[-1::-1]\n",
    "\n",
    "class tnode:# 树节点的定义\n",
    "    def __init__(self, leaf = True, layer = None):\n",
    "        self.counter = 0\n",
    "        self.redSum = 0\n",
    "        self.greenSum = 0\n",
    "        self.blueSum = 0\n",
    "        self.leaf = leaf\n",
    "        self.child_node = []\n",
    "        self.child_num = 0\n",
    "        self.layer = layer\n",
    "        \n",
    "    def update(self,red,green,blue):\n",
    "        self.redSum+=red\n",
    "        self.greenSum+=green\n",
    "        self.blueSum+=blue \n",
    "\n",
    "def born(parent_node: tnode):\n",
    "    parent_node.child_node = [None for i in range(8)]\n",
    "    parent_node.leaf = False\n",
    "    leaf_saver.remove(parent_node)\n",
    "    \n",
    "class Tree:\n",
    "    def __init__(self):\n",
    "        self.root = tnode()\n",
    "        self.root.layer = 1\n",
    "        self.leaf_number = 0\n",
    "        leaf_saver.append(self.root)\n",
    "        born(self.root)\n",
    "\n",
    "Octree = Tree() # 我们可爱的树\n",
    "\n",
    "def insert(Tree,node,pixel,index):\n",
    "    if(index >= 8):\n",
    "        return True\n",
    "    else:\n",
    "        if(index == 0):\n",
    "            node.update(pixel[0],pixel[1],pixel[2])\n",
    "        red = Dec2Bi(pixel[0])[index]\n",
    "        green = Dec2Bi(pixel[1])[index]\n",
    "        blue = Dec2Bi(pixel[2])[index]\n",
    "        loc = red*4+green*2+blue\n",
    "        if(node.leaf):\n",
    "            born(node)\n",
    "            Tree.leaf_number = Tree.leaf_number - 1\n",
    "        if(node.child_node[loc] == None):\n",
    "            node.child_node[loc] = tnode()\n",
    "            leaf_saver.append(node.child_node[loc])\n",
    "            node.child_node[loc].layer = node.layer+1\n",
    "            node.child_num += 1\n",
    "            Tree.leaf_number += 1\n",
    "            if(node.child_num == 2):\n",
    "                node_saver.append((index+1,pixel,node.counter))\n",
    "        node.child_node[loc].update(pixel[0],pixel[1],pixel[2])\n",
    "        node.counter += 1\n",
    "        insert(Tree,node.child_node[loc],pixel,index+1)\n",
    "        \n",
    "def deep_node(Tree):#返回最深的且节点数最小的分支的节点对象\n",
    "    deepest = -1\n",
    "    counter_min = 20000\n",
    "    trace = []\n",
    "    for branch in node_saver:\n",
    "        if(branch[0]>deepest):\n",
    "            deepest = branch[0]\n",
    "    for branch in node_saver:\n",
    "        if(branch[0]==deepest and branch[2]<counter_min):\n",
    "            counter_min = branch[2]\n",
    "    for branch in node_saver:\n",
    "        if(branch[0]==deepest and branch[2]==counter_min):\n",
    "            index = branch[0]\n",
    "            pixel = branch[1]\n",
    "            for i in range(index-1):\n",
    "                red = Dec2Bi(pixel[0])[i]\n",
    "                green = Dec2Bi(pixel[1])[i]\n",
    "                blue = Dec2Bi(pixel[2])[i]\n",
    "                loc = red*4+green*2+blue\n",
    "                trace.append(loc)\n",
    "            node_saver.remove(branch)\n",
    "            break\n",
    "    node = Tree.root\n",
    "    for loc in trace:\n",
    "        node = node.child_node[loc]\n",
    "    return node\n",
    "\n",
    "def merge(Tree):#合并这颗树的节点\n",
    "    node = deep_node(Tree)\n",
    "    for i in range(8):\n",
    "        if(node.child_node[i]!=None):\n",
    "            leaf_node = node.child_node[i]\n",
    "            Tree.leaf_number = Tree.leaf_number - 1\n",
    "            while(leaf_node.leaf == False): # 如果该节点不是叶子结点的情况\n",
    "                for j in range(len(leaf_node.child_node)):\n",
    "                    if(leaf_node.child_node[j]):\n",
    "                        leaf_node = leaf_node.child_node[j]\n",
    "                        break\n",
    "            leaf_saver.remove(leaf_node)\n",
    "            node.child_node[i]=None \n",
    "    node.leaf = True\n",
    "    leaf_saver.append(node)\n",
    "    node.child_num = 0\n",
    "    Tree.leaf_number += 1\n",
    "\n",
    "def start_merge(image):\n",
    "    img = Image.open(image)\n",
    "    data = np.array(img)\n",
    "    for i in range(data.shape[0]):\n",
    "        for j in range(data.shape[1]):\n",
    "            insert(Octree,Octree.root,data[i][j].tolist(),0)\n",
    "    print('Tree construction complete!')\n",
    "    Total = Octree.leaf_number\n",
    "    while(Octree.leaf_number>256):\n",
    "        if(Octree.leaf_number % 1000 == 0):\n",
    "            print('{} has finished: {}/{}'.format(Octree.leaf_number/Total,Octree.leaf_number,Total))\n",
    "        merge(Octree)"
   ]
  },
  {
   "cell_type": "code",
   "execution_count": 2,
   "metadata": {
    "collapsed": false,
    "scrolled": true
   },
   "outputs": [
    {
     "data": {
      "text/plain": [
       "0"
      ]
     },
     "execution_count": 2,
     "metadata": {},
     "output_type": "execute_result"
    }
   ],
   "source": [
    "Octree.root.counter"
   ]
  },
  {
   "cell_type": "code",
   "execution_count": 3,
   "metadata": {
    "collapsed": false
   },
   "outputs": [
    {
     "name": "stdout",
     "output_type": "stream",
     "text": [
      "Tree construction complete!\n",
      "0.979587838416986 has finished: 240000/245001\n",
      "0.9673429904367737 has finished: 237000/245001\n",
      "0.9591797584499655 has finished: 235000/245001\n",
      "0.9510165264631573 has finished: 233000/245001\n",
      "0.9469349104697532 has finished: 232000/245001\n",
      "0.942853294476349 has finished: 231000/245001\n",
      "0.9306084464961367 has finished: 228000/245001\n",
      "0.9265268305027327 has finished: 227000/245001\n",
      "0.9224452145093285 has finished: 226000/245001\n",
      "0.9183635985159244 has finished: 225000/245001\n",
      "0.9102003665291162 has finished: 223000/245001\n",
      "0.9020371345423079 has finished: 221000/245001\n",
      "0.8979555185489039 has finished: 220000/245001\n",
      "0.8938739025554998 has finished: 219000/245001\n",
      "0.8897922865620956 has finished: 218000/245001\n",
      "0.8857106705686916 has finished: 217000/245001\n",
      "0.8816290545752874 has finished: 216000/245001\n",
      "0.8693842065950751 has finished: 213000/245001\n",
      "0.865302590601671 has finished: 212000/245001\n",
      "0.8612209746082669 has finished: 211000/245001\n",
      "0.8489761266280546 has finished: 208000/245001\n",
      "0.8448945106346505 has finished: 207000/245001\n",
      "0.8408128946412463 has finished: 206000/245001\n",
      "0.8367312786478422 has finished: 205000/245001\n",
      "0.8326496626544382 has finished: 204000/245001\n",
      "0.828568046661034 has finished: 203000/245001\n",
      "0.8244864306676299 has finished: 202000/245001\n",
      "0.8163231986808217 has finished: 200000/245001\n",
      "0.8122415826874176 has finished: 199000/245001\n",
      "0.8081599666940135 has finished: 198000/245001\n",
      "0.8040783507006094 has finished: 197000/245001\n",
      "0.7999967347072052 has finished: 196000/245001\n",
      "0.7959151187138012 has finished: 195000/245001\n",
      "0.7877518867269929 has finished: 193000/245001\n",
      "0.7836702707335889 has finished: 192000/245001\n",
      "0.7795886547401847 has finished: 191000/245001\n",
      "0.7755070387467806 has finished: 190000/245001\n",
      "0.7714254227533766 has finished: 189000/245001\n",
      "0.7632621907665683 has finished: 187000/245001\n",
      "0.7591805747731641 has finished: 186000/245001\n",
      "0.7550989587797601 has finished: 185000/245001\n",
      "0.751017342786356 has finished: 184000/245001\n",
      "0.7469357267929518 has finished: 183000/245001\n",
      "0.7428541107995478 has finished: 182000/245001\n",
      "0.7387724948061436 has finished: 181000/245001\n",
      "0.7346908788127395 has finished: 180000/245001\n",
      "0.7306092628193355 has finished: 179000/245001\n",
      "0.7224460308325272 has finished: 177000/245001\n",
      "0.718364414839123 has finished: 176000/245001\n",
      "0.714282798845719 has finished: 175000/245001\n",
      "0.7102011828523149 has finished: 174000/245001\n",
      "0.7061195668589108 has finished: 173000/245001\n",
      "0.7020379508655067 has finished: 172000/245001\n",
      "0.6979563348721025 has finished: 171000/245001\n",
      "0.6938747188786984 has finished: 170000/245001\n",
      "0.6897931028852944 has finished: 169000/245001\n",
      "0.6857114868918902 has finished: 168000/245001\n",
      "0.6693850229182738 has finished: 164000/245001\n",
      "0.6653034069248697 has finished: 163000/245001\n",
      "0.6612217909314656 has finished: 162000/245001\n",
      "0.6571401749380614 has finished: 161000/245001\n",
      "0.6530585589446574 has finished: 160000/245001\n",
      "0.6489769429512533 has finished: 159000/245001\n",
      "0.6448953269578491 has finished: 158000/245001\n",
      "0.604079167023808 has finished: 148000/245001\n",
      "0.5795894710633834 has finished: 142000/245001\n",
      "0.5673446230831711 has finished: 139000/245001\n",
      "0.5224468471557259 has finished: 128000/245001\n",
      "0.5020387671887053 has finished: 123000/245001\n",
      "0.4734674552348766 has finished: 116000/245001\n",
      "0.4448961432810478 has finished: 109000/245001\n",
      "0.43673291129423963 has finished: 107000/245001\n",
      "0.4285696793074314 has finished: 105000/245001\n",
      "0.40816159934041085 has finished: 100000/245001\n",
      "0.39183513536679443 has finished: 96000/245001\n",
      "0.375508671393178 has finished: 92000/245001\n",
      "0.3714270553997739 has finished: 91000/245001\n",
      "0.35510059142615746 has finished: 87000/245001\n",
      "0.3265292794723287 has finished: 80000/245001\n",
      "0.30612119950530814 has finished: 75000/245001\n",
      "0.27754988755147936 has finished: 68000/245001\n",
      "0.2734682715580753 has finished: 67000/245001\n",
      "0.26530503957126705 has finished: 65000/245001\n",
      "0.24897857559765063 has finished: 61000/245001\n",
      "0.23265211162403418 has finished: 57000/245001\n",
      "0.16326463973616434 has finished: 40000/245001\n",
      "0.10204039983510271 has finished: 25000/245001\n",
      "0.0938771678482945 has finished: 23000/245001\n",
      "0.07755070387467806 has finished: 19000/245001\n",
      "0.06938747188786984 has finished: 17000/245001\n",
      "0.03673454394063698 has finished: 9000/245001\n",
      "0.024489695960424652 has finished: 6000/245001\n"
     ]
    }
   ],
   "source": [
    "start_merge(\"task2.jpg\")"
   ]
  },
  {
   "cell_type": "code",
   "execution_count": 511,
   "metadata": {
    "collapsed": false
   },
   "outputs": [
    {
     "data": {
      "text/plain": [
       "(768, 1365, 3)"
      ]
     },
     "execution_count": 511,
     "metadata": {},
     "output_type": "execute_result"
    }
   ],
   "source": [
    "data2.shape"
   ]
  },
  {
   "cell_type": "code",
   "execution_count": 512,
   "metadata": {
    "collapsed": false
   },
   "outputs": [
    {
     "data": {
      "text/plain": [
       "1048320"
      ]
     },
     "execution_count": 512,
     "metadata": {},
     "output_type": "execute_result"
    }
   ],
   "source": [
    "768*1365"
   ]
  },
  {
   "cell_type": "code",
   "execution_count": 23,
   "metadata": {
    "collapsed": false
   },
   "outputs": [
    {
     "data": {
      "text/plain": [
       "0"
      ]
     },
     "execution_count": 23,
     "metadata": {},
     "output_type": "execute_result"
    }
   ],
   "source": [
    "leaf_saver[1].counter"
   ]
  },
  {
   "cell_type": "code",
   "execution_count": 401,
   "metadata": {
    "collapsed": false
   },
   "outputs": [
    {
     "name": "stdout",
     "output_type": "stream",
     "text": [
      "1\n",
      "0\n"
     ]
    }
   ],
   "source": [
    "merge(Octree)"
   ]
  },
  {
   "cell_type": "code",
   "execution_count": 395,
   "metadata": {
    "collapsed": false
   },
   "outputs": [],
   "source": [
    "pixel = [255,255,255]"
   ]
  },
  {
   "cell_type": "code",
   "execution_count": 396,
   "metadata": {
    "collapsed": false
   },
   "outputs": [],
   "source": [
    "insert(Octree,Octree.root,pixel,0)"
   ]
  },
  {
   "cell_type": "code",
   "execution_count": 4,
   "metadata": {
    "collapsed": false
   },
   "outputs": [
    {
     "data": {
      "text/plain": [
       "1048320"
      ]
     },
     "execution_count": 4,
     "metadata": {},
     "output_type": "execute_result"
    }
   ],
   "source": [
    "Octree.root.counter"
   ]
  },
  {
   "cell_type": "code",
   "execution_count": 5,
   "metadata": {
    "collapsed": false
   },
   "outputs": [
    {
     "data": {
      "text/plain": [
       "253"
      ]
     },
     "execution_count": 5,
     "metadata": {},
     "output_type": "execute_result"
    }
   ],
   "source": [
    "Octree.leaf_number"
   ]
  },
  {
   "cell_type": "code",
   "execution_count": 28,
   "metadata": {
    "collapsed": false
   },
   "outputs": [],
   "source": [
    "txtName = \"task2.txt\"\n",
    "f=open(txtName, \"a+\")\n",
    "for i in range(253):\n",
    "    if(leaf_saver[i].counter==0):\n",
    "        S = \"[{},{},{}]   {}\\n\".format(leaf_saver[i].redSum,leaf_saver[i].greenSum,leaf_saver[i].blueSum,0)\n",
    "    else:\n",
    "        red = leaf_saver[i].redSum/leaf_saver[i].counter\n",
    "        green = leaf_saver[i].greenSum/leaf_saver[i].counter\n",
    "        blue = leaf_saver[i].blueSum/leaf_saver[i].counter\n",
    "        S = \"[{:.2f},{:.2f},{:.2f}]   {}\\n\".format(red,green,blue,leaf_saver[i].counter)\n",
    "    f.write(S)\n",
    "f.close()"
   ]
  },
  {
   "cell_type": "code",
   "execution_count": 7,
   "metadata": {
    "collapsed": true
   },
   "outputs": [],
   "source": [
    "data2 = np.array(Image.open('task2.jpg'))"
   ]
  },
  {
   "cell_type": "code",
   "execution_count": 12,
   "metadata": {
    "collapsed": false
   },
   "outputs": [],
   "source": [
    "for i in range(data2.shape[0]):\n",
    "    for j in range(data2.shape[1]):\n",
    "        node = Octree.root\n",
    "        index = 0\n",
    "        while(node.leaf == False):\n",
    "            pixel = data2[i][j]\n",
    "            red = Dec2Bi(pixel[0])[index]\n",
    "            green = Dec2Bi(pixel[1])[index]\n",
    "            blue = Dec2Bi(pixel[2])[index]\n",
    "            loc = red*4+green*2+blue\n",
    "            node = node.child_node[loc]\n",
    "            index += 1\n",
    "        if(node.counter == 0):\n",
    "            R = node.redSum\n",
    "            G = node.greenSum\n",
    "            B = node.blueSum\n",
    "        else:\n",
    "            R = node.redSum/node.counter\n",
    "            G = node.greenSum/node.counter\n",
    "            B = node.blueSum/node.counter\n",
    "        a = [int(R),int(G),int(B)]\n",
    "        data2[i][j]=np.array(a)"
   ]
  },
  {
   "cell_type": "code",
   "execution_count": 17,
   "metadata": {
    "collapsed": true
   },
   "outputs": [],
   "source": [
    "img = Image.fromarray(data2)"
   ]
  },
  {
   "cell_type": "code",
   "execution_count": 16,
   "metadata": {
    "collapsed": false
   },
   "outputs": [],
   "source": [
    "img.save('Desktop/task2_D.jpg')"
   ]
  }
 ],
 "metadata": {
  "kernelspec": {
   "display_name": "Python 3",
   "language": "python",
   "name": "python3"
  },
  "language_info": {
   "codemirror_mode": {
    "name": "ipython",
    "version": 3
   },
   "file_extension": ".py",
   "mimetype": "text/x-python",
   "name": "python",
   "nbconvert_exporter": "python",
   "pygments_lexer": "ipython3",
   "version": "3.6.0"
  }
 },
 "nbformat": 4,
 "nbformat_minor": 2
}
